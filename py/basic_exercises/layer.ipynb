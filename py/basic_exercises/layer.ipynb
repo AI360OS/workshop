{
 "cells": [
  {
   "cell_type": "code",
   "execution_count": null,
   "metadata": {},
   "outputs": [],
   "source": [
    "\"\"\"\n",
    "  Task: to implment layer y = relu(x W + b).\n",
    "\"\"\"\n",
    "import tensorflow as tf   # Import tensorflow library.\n",
    "\n",
    "# Variable(<initial_value>, dtype=<tf.float32|tf.int32|...>)\n",
    "W = tf.Variable([[1.0, 2.0], [3.0, 4.0]], dtype=tf.float32, name='weight')\n",
    "x = tf.placeholder(tf.float32, shape=[None, 2])\n",
    "b = tf.Variable([1.0, 1.0], dtype=tf.float32, name='bias')\n",
    "\n",
    "# Matrix multiply and add bias.\n",
    "y = tf.nn.bias_add(tf.matmul(x, W), b)\n",
    "y = tf.nn.relu(y)\n",
    "\n",
    "with tf.Session() as sess:\n",
    "    # Initialize all variables.\n",
    "    sess.run(tf.global_variables_initializer())  \n",
    "\n",
    "    # Givne x, batch of a single example\n",
    "    #  [[1.0, 1.0]]\n",
    "    # M: \n",
    "    #   [1.0, 2.0]\n",
    "    #   [3.0, 4.0]\n",
    "    # b:\n",
    "    #   [1.0, 1.0]\n",
    "    print(sess.run(y, feed_dict={x: [[1.0, 1.0]]}))    # <- Expect: [[5.0, 7.0]]\n"
   ]
  }
 ],
 "metadata": {
  "kernelspec": {
   "display_name": "Python 2",
   "language": "python",
   "name": "python2"
  },
  "language_info": {
   "codemirror_mode": {
    "name": "ipython",
    "version": 2
   },
   "file_extension": ".py",
   "mimetype": "text/x-python",
   "name": "python",
   "nbconvert_exporter": "python",
   "pygments_lexer": "ipython2",
   "version": "2.7.14"
  }
 },
 "nbformat": 4,
 "nbformat_minor": 2
}
