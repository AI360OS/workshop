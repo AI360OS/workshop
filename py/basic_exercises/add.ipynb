{
 "cells": [
  {
   "cell_type": "code",
   "execution_count": null,
   "metadata": {},
   "outputs": [],
   "source": [
    "\"\"\"\n",
    "  Task: to implment x = a + b.\n",
    "\"\"\"\n",
    "import tensorflow as tf   # Import tensorflow library.\n",
    "\n",
    "a = tf.constant([1.0, 1.0], dtype=tf.float32, name='a')\n",
    "b = tf.constant([1.0, 2.0], dtype=tf.float32, name='b')\n",
    "\n",
    "# Add a and b pointwisely.\n",
    "x = a + b    # <- Expect [2.0, 3.0]\n",
    "\n",
    "with tf.Session() as sess:\n",
    "    print(sess.run(x))\n"
   ]
  }
 ],
 "metadata": {
  "kernelspec": {
   "display_name": "Python 2",
   "language": "python",
   "name": "python2"
  },
  "language_info": {
   "codemirror_mode": {
    "name": "ipython",
    "version": 2
   },
   "file_extension": ".py",
   "mimetype": "text/x-python",
   "name": "python",
   "nbconvert_exporter": "python",
   "pygments_lexer": "ipython2",
   "version": "2.7.14"
  }
 },
 "nbformat": 4,
 "nbformat_minor": 2
}
